{
 "cells": [
  {
   "cell_type": "markdown",
   "metadata": {},
   "source": [
    "# Fin 5350 HW-2 \n",
    "### Collin Butterfield"
   ]
  },
  {
   "cell_type": "code",
   "execution_count": 1,
   "metadata": {},
   "outputs": [],
   "source": [
    "import numpy as np\n",
    "from scipy.stats import binom"
   ]
  },
  {
   "cell_type": "code",
   "execution_count": 2,
   "metadata": {},
   "outputs": [],
   "source": [
    "## Define call and put payoff\n",
    "def call_payoff(spot, strike):\n",
    "    return np.maximum(spot - strike, 0.0)\n",
    "\n",
    "def put_payoff(spot, strike):\n",
    "    return np.maximum(strike - spot, 0.0)"
   ]
  },
  {
   "cell_type": "markdown",
   "metadata": {},
   "source": [
    "## Problem 1"
   ]
  },
  {
   "cell_type": "code",
   "execution_count": 3,
   "metadata": {},
   "outputs": [],
   "source": [
    "def call_prob1(s, k, r, T, v, u, d, n, check = True):\n",
    "    h = T / n\n",
    "    spotU = s * u\n",
    "    spotD = s * d\n",
    "    Cu = call_payoff(spotU, k)\n",
    "    Cd = call_payoff(spotD, k)\n",
    "    delta = (Cu - Cd) / (s * (u - d))\n",
    "    beta = np.exp(-r * h) * ((u*Cd - d*Cu) / (u - d))\n",
    "    price = s * delta + beta\n",
    "    \n",
    "    return (delta, beta, price)\n",
    "\n",
    "def put_prob1(s, k, r, T, v, u, d, n, check = True):\n",
    "    h = T / n\n",
    "    spotU = s * u\n",
    "    spotD = s * d\n",
    "    Cu = put_payoff(spotU, k)\n",
    "    Cd = put_payoff(spotD, k)\n",
    "    delta = (Cu - Cd) / (s * (u - d))\n",
    "    beta = np.exp(-r * h) * ((u*Cd - d*Cu) / (u - d))\n",
    "    price = s * delta + beta\n",
    "    \n",
    "    return (delta, beta, price)\n",
    "\n"
   ]
  },
  {
   "cell_type": "code",
   "execution_count": 4,
   "metadata": {},
   "outputs": [
    {
     "name": "stdout",
     "output_type": "stream",
     "text": [
      "The European Call delta, beta & premium: \n",
      "(0.5, -38.431577566092926, 11.568422433907074)\n",
      " \n",
      "The European Put delta, beta & premium: \n",
      "(-0.5, 62.451313544901005, 12.451313544901005)\n"
     ]
    }
   ],
   "source": [
    "s = 100.0\n",
    "k = 105.0\n",
    "r = 0.08\n",
    "T = 0.5\n",
    "v = 0.0\n",
    "u = 1.3\n",
    "d = 0.8\n",
    "n = 1.0\n",
    "\n",
    "call_price = call_prob1(s, k, r, T, v, u, d, n, check = True)\n",
    "put_price = put_prob1(s, k, r, T, v, u, d, n, check = True)\n",
    "print(\"The European Call delta, beta & premium: \")\n",
    "print(call_price)\n",
    "print(\" \")\n",
    "print(\"The European Put delta, beta & premium: \")\n",
    "print(put_price)"
   ]
  },
  {
   "cell_type": "markdown",
   "metadata": {},
   "source": [
    "## Problem 2"
   ]
  },
  {
   "cell_type": "code",
   "execution_count": 5,
   "metadata": {},
   "outputs": [
    {
     "name": "stdout",
     "output_type": "stream",
     "text": [
      "The European put is:\n",
      "(7.4707881269406045,)\n"
     ]
    }
   ],
   "source": [
    "## verify that the put price is $7.47\n",
    "s = 100.0\n",
    "k = 95.0\n",
    "r = 0.08\n",
    "T = 0.5\n",
    "v = 0.0\n",
    "u = 1.3\n",
    "d = 0.8\n",
    "n = 1.0\n",
    "put_price = put_prob1(s, k, r, T, v, u, d, n, check = True)\n",
    "print(\"The European put is:\")\n",
    "print(put_price[2:])"
   ]
  },
  {
   "cell_type": "code",
   "execution_count": 6,
   "metadata": {},
   "outputs": [],
   "source": [
    "def call_prob2(s, k, r, T, v, u, d, n, check = True):\n",
    "    h = T / n\n",
    "    spotU = s * u\n",
    "    spotD = s * d\n",
    "    Cu = call_payoff(spotU, k)\n",
    "    Cd = call_payoff(spotD, k)\n",
    "    delta = (Cu - Cd) / (s * (u - d))\n",
    "    beta = np.exp(-r * h) * ((u*Cd - d*Cu) / (u - d))\n",
    "    price = s * delta + beta\n",
    "    \n",
    "    return price"
   ]
  },
  {
   "cell_type": "code",
   "execution_count": 7,
   "metadata": {},
   "outputs": [
    {
     "name": "stdout",
     "output_type": "stream",
     "text": [
      "The call price is: 16.196 < 17.0\n",
      "You gain: 0.804\n",
      " \n",
      "The call price is: 16.196 > 15.5\n",
      "You lose: 0.696\n",
      " \n"
     ]
    }
   ],
   "source": [
    "## what is the arbitrage if you have a call price of $17 and $15.50\n",
    "callp = [17.0, 15.5]\n",
    "call_price = call_prob2(s, k, r, T, v, u, d, n, check = True)\n",
    "\n",
    "for i in callp:\n",
    "    if call_price < i:\n",
    "        gain = i - call_price\n",
    "        print(\"The call price is:\", round(call_price, 3), \"<\", i)\n",
    "        print(\"You gain:\", round(gain, 3))\n",
    "        print(\" \")\n",
    "    else:\n",
    "        loss = call_price - i\n",
    "        print(\"The call price is:\", round(call_price, 3), \">\", i)\n",
    "        print(\"You lose:\", round(loss, 3))\n",
    "        print(\" \")\n"
   ]
  },
  {
   "cell_type": "markdown",
   "metadata": {},
   "source": [
    "## Problem 3"
   ]
  },
  {
   "cell_type": "code",
   "execution_count": 8,
   "metadata": {},
   "outputs": [],
   "source": [
    "def call_prob3(s, k, r, T, v, u, d, n, check = True):\n",
    "    h = T / n\n",
    "    nodes = n + 1\n",
    "    Ct = np.zeros((nodes, n+1))\n",
    "    St = np.zeros((nodes, n+1))\n",
    "    Dt = np.zeros((nodes-1, n))\n",
    "    Bt = np.zeros((nodes-1, n))\n",
    "    \n",
    "    for i in range(nodes):\n",
    "        St[i, n] = s * (u**(n-i)) * (d**i)\n",
    "        Ct[i, n] = call_payoff(St[i, n], k)\n",
    "    \n",
    "\n",
    "    for t in range((n-1), -1, -1):\n",
    "        for j in range(t+1):\n",
    "            St[j, t] = St[j, t+1] / u\n",
    "            Dt[j, t] = (Ct[j, t+1] - Ct[j+1, t+1]) / (St[j, t] * (u-d))\n",
    "            Bt[j, t] = np.exp(-r*h) * (((u*Ct[j+1, t+1]) - (d*Ct[j, t+1])) / (u-d))\n",
    "            Ct[j, t] = (Dt[j, t] * St[j ,t]) + Bt[j, t]\n",
    "        \n",
    "    if check:\n",
    "        print(\"The Spot matrix:\")\n",
    "        print(St)\n",
    "        print(\"\\n\")\n",
    "        print(\"The Delta matrix:\")\n",
    "        print(Dt)\n",
    "        print(\"\\n\")\n",
    "        print(\"The B matrix:\")\n",
    "        print(Bt)\n",
    "        print(\"\\n\")\n",
    "        print(\"The call price matrix:\")\n",
    "        print(Ct)\n",
    "                    \n",
    "            \n",
    "    return Ct[0,0]\n",
    "       \n",
    "    \n"
   ]
  },
  {
   "cell_type": "code",
   "execution_count": 9,
   "metadata": {},
   "outputs": [
    {
     "name": "stdout",
     "output_type": "stream",
     "text": [
      "The Spot matrix:\n",
      "[[100. 130. 169.]\n",
      " [  0.  80. 104.]\n",
      " [  0.   0.  64.]]\n",
      "\n",
      "\n",
      "The Delta matrix:\n",
      "[[0.69120742 1.        ]\n",
      " [0.         0.225     ]]\n",
      "\n",
      "\n",
      "The B matrix:\n",
      "[[-49.12704895 -91.27499672]\n",
      " [  0.         -13.83536792]]\n",
      "\n",
      "\n",
      "The call price matrix:\n",
      "[[19.99369346 38.72500328 74.        ]\n",
      " [ 0.          4.16463208  9.        ]\n",
      " [ 0.          0.          0.        ]]\n",
      "The call price is: 19.994\n"
     ]
    }
   ],
   "source": [
    "s = 100\n",
    "k = 95\n",
    "r = 0.08\n",
    "T = 1\n",
    "v = 0.0\n",
    "u = 1.3\n",
    "d = 0.8\n",
    "n = 2\n",
    "\n",
    "call_price = call_prob3(s, k, r, T, v, u, d, n, check = True)\n",
    "print(\"The call price is:\", round(call_price, 3))"
   ]
  },
  {
   "cell_type": "markdown",
   "metadata": {},
   "source": [
    "## Problem 4"
   ]
  },
  {
   "cell_type": "code",
   "execution_count": 17,
   "metadata": {},
   "outputs": [],
   "source": [
    "## repeat problem 3 with s = 80, 90, 110, 120, 130 and n = 3\n",
    "k = 95\n",
    "r = 0.08\n",
    "T = 1\n",
    "v = 0.0 # dividend \n",
    "u = 1.3\n",
    "d = 0.8"
   ]
  },
  {
   "cell_type": "code",
   "execution_count": 11,
   "metadata": {},
   "outputs": [
    {
     "name": "stdout",
     "output_type": "stream",
     "text": [
      "The Spot matrix:\n",
      "[[ 80.   104.   135.2  175.76]\n",
      " [  0.    64.    83.2  108.16]\n",
      " [  0.     0.    51.2   66.56]\n",
      " [  0.     0.     0.    40.96]]\n",
      "\n",
      "\n",
      "The Delta matrix:\n",
      "[[0.48495817 0.70926502 1.        ]\n",
      " [0.         0.18181478 0.31634615]\n",
      " [0.         0.         0.        ]]\n",
      "\n",
      "\n",
      "The B matrix:\n",
      "[[-27.71609813 -51.7930486  -92.50014619]\n",
      " [  0.          -9.06395941 -20.50192714]\n",
      " [  0.           0.           0.        ]]\n",
      "\n",
      "\n",
      "The call price matrix:\n",
      "[[11.08055585 21.9705133  42.69985381 80.76      ]\n",
      " [ 0.          2.57218631  5.81807286 13.16      ]\n",
      " [ 0.          0.          0.          0.        ]\n",
      " [ 0.          0.          0.          0.        ]]\n",
      "The call price is: 11.081\n"
     ]
    }
   ],
   "source": [
    "s = 80\n",
    "n = 3\n",
    "\n",
    "call_price = call_prob3(s, k, r, T, v, u, d, n, check = True)\n",
    "print(\"The call price is:\", round(call_price, 3))"
   ]
  },
  {
   "cell_type": "code",
   "execution_count": 12,
   "metadata": {},
   "outputs": [
    {
     "name": "stdout",
     "output_type": "stream",
     "text": [
      "The Spot matrix:\n",
      "[[ 90.   117.   152.1  197.73]\n",
      " [  0.    72.    93.6  121.68]\n",
      " [  0.     0.    57.6   74.88]\n",
      " [  0.     0.     0.    46.08]]\n",
      "\n",
      "\n",
      "The Delta matrix:\n",
      "[[0.60899351 0.81717181 1.        ]\n",
      " [0.         0.3276473  0.57008547]\n",
      " [0.         0.         0.        ]]\n",
      "\n",
      "\n",
      "The B matrix:\n",
      "[[-37.61620293 -62.98965805 -92.50014619]\n",
      " [  0.         -18.37586909 -41.56469727]\n",
      " [  0.           0.           0.        ]]\n",
      "\n",
      "\n",
      "The call price matrix:\n",
      "[[ 17.19321255  32.61944411  59.59985381 102.73      ]\n",
      " [  0.           5.21473638  11.79530273  26.68      ]\n",
      " [  0.           0.           0.           0.        ]\n",
      " [  0.           0.           0.           0.        ]]\n",
      "The call price is: 17.193\n"
     ]
    }
   ],
   "source": [
    "s = 90\n",
    "n = 3\n",
    "\n",
    "call_price = call_prob3(s, k, r, T, v, u, d, n, check = True)\n",
    "print(\"The call price is:\", round(call_price, 3))"
   ]
  },
  {
   "cell_type": "code",
   "execution_count": 13,
   "metadata": {},
   "outputs": [
    {
     "name": "stdout",
     "output_type": "stream",
     "text": [
      "The Spot matrix:\n",
      "[[110.   143.   185.9  241.67]\n",
      " [  0.    88.   114.4  148.72]\n",
      " [  0.     0.    70.4   91.52]\n",
      " [  0.     0.     0.    56.32]]\n",
      "\n",
      "\n",
      "The Delta matrix:\n",
      "[[0.78940853 0.97412715 1.        ]\n",
      " [0.         0.53976733 0.93916084]\n",
      " [0.         0.         0.        ]]\n",
      "\n",
      "\n",
      "The B matrix:\n",
      "[[-57.41641252 -85.38287694 -92.50014619]\n",
      " [  0.         -36.99968843 -83.69023753]\n",
      " [  0.           0.           0.        ]]\n",
      "\n",
      "\n",
      "The call price matrix:\n",
      "[[ 29.41852594  53.91730574  93.39985381 146.67      ]\n",
      " [  0.          10.49983651  23.74976247  53.72      ]\n",
      " [  0.           0.           0.           0.        ]\n",
      " [  0.           0.           0.           0.        ]]\n",
      "The call price is: 29.419\n"
     ]
    }
   ],
   "source": [
    "s = 110\n",
    "n = 3\n",
    "\n",
    "call_price = call_prob3(s, k, r, T, v, u, d, n, check = True)\n",
    "print(\"The call price is:\", round(call_price, 3))"
   ]
  },
  {
   "cell_type": "code",
   "execution_count": 14,
   "metadata": {},
   "outputs": [
    {
     "name": "stdout",
     "output_type": "stream",
     "text": [
      "The Spot matrix:\n",
      "[[120.   156.   202.8  263.64]\n",
      " [  0.    96.   124.8  162.24]\n",
      " [  0.     0.    76.8   99.84]\n",
      " [  0.     0.     0.    61.44]]\n",
      "\n",
      "\n",
      "The Delta matrix:\n",
      "[[0.84194335 1.         1.        ]\n",
      " [0.         0.62833492 1.        ]\n",
      " [0.         0.         0.12604167]]\n",
      "\n",
      "\n",
      "The B matrix:\n",
      "[[-63.68804104 -90.06607416 -92.50014619]\n",
      " [  0.         -44.9028274  -92.50014619]\n",
      " [  0.           0.          -7.54022244]]\n",
      "\n",
      "\n",
      "The call price matrix:\n",
      "[[ 37.34516043  65.93392584 110.29985381 168.64      ]\n",
      " [  0.          15.41732511  32.29985381  67.24      ]\n",
      " [  0.           0.           2.13977756   4.84      ]\n",
      " [  0.           0.           0.           0.        ]]\n",
      "The call price is: 37.345\n"
     ]
    }
   ],
   "source": [
    "s = 120\n",
    "n = 3\n",
    "\n",
    "call_price = call_prob3(s, k, r, T, v, u, d, n, check = True)\n",
    "print(\"The call price is:\", round(call_price, 3))"
   ]
  },
  {
   "cell_type": "code",
   "execution_count": 15,
   "metadata": {},
   "outputs": [
    {
     "name": "stdout",
     "output_type": "stream",
     "text": [
      "The Spot matrix:\n",
      "[[130.   169.   219.7  285.61]\n",
      " [  0.   104.   135.2  175.76]\n",
      " [  0.     0.    83.2  108.16]\n",
      " [  0.     0.     0.    66.56]]\n",
      "\n",
      "\n",
      "The Delta matrix:\n",
      "[[0.87636019 1.         1.        ]\n",
      " [0.         0.70926502 1.        ]\n",
      " [0.         0.         0.31634615]]\n",
      "\n",
      "\n",
      "The B matrix:\n",
      "[[-67.35076514 -90.06607416 -92.50014619]\n",
      " [  0.         -51.7930486  -92.50014619]\n",
      " [  0.           0.         -20.50192714]]\n",
      "\n",
      "\n",
      "The call price matrix:\n",
      "[[ 46.57605995  78.93392584 127.19985381 190.61      ]\n",
      " [  0.          21.9705133   42.69985381  80.76      ]\n",
      " [  0.           0.           5.81807286  13.16      ]\n",
      " [  0.           0.           0.           0.        ]]\n",
      "The call price is: 46.576\n"
     ]
    }
   ],
   "source": [
    "s = 130\n",
    "n = 3\n",
    "\n",
    "call_price = call_prob3(s, k, r, T, v, u, d, n, check = True)\n",
    "print(\"The call price is:\", round(call_price, 3))"
   ]
  },
  {
   "cell_type": "code",
   "execution_count": 16,
   "metadata": {},
   "outputs": [],
   "source": [
    "## Conclusion: We can see that as stock price rises, we will also see delta rise"
   ]
  },
  {
   "cell_type": "markdown",
   "metadata": {},
   "source": [
    "## Problem 5"
   ]
  },
  {
   "cell_type": "code",
   "execution_count": 67,
   "metadata": {},
   "outputs": [],
   "source": [
    "def euro_binom_pricer(s, k, r, v, q, T, n, payoff, check = True):\n",
    "    nodes = n  + 1\n",
    "    h = T / n\n",
    "    u = np.exp((r - v) * h + q * np.sqrt(h))\n",
    "    d = np.exp((r - v) * h - q * np.sqrt(h))\n",
    "    pu = (np.exp((r - v) * h) - d) / (u - d)\n",
    "    pd = 1.0 - pu\n",
    "    disc = np.exp(-r * h)\n",
    "    \n",
    "    \n",
    "    ## Arrays to store the spot prices and option values\n",
    "    Ct = np.zeros((nodes, n+1))\n",
    "    St = np.zeros((nodes, n+1))\n",
    "    \n",
    "    for i in range(nodes):\n",
    "        St[i, n] = s * (u ** (n - i)) * (d ** i)\n",
    "        Ct[i, n] = payoff(St[i, n], k)\n",
    "        \n",
    "    for t in range((n - 1), -1, -1):\n",
    "        for j in range(t+1):\n",
    "            St[j, t] = St[j, t+1] / u\n",
    "            Ct[j, t] = disc * (pu * Ct[j, t+1] + pd * Ct[j+1, t+1])\n",
    "           \n",
    "    if check:\n",
    "        print(\"The spot matrix:\")\n",
    "        print(St)\n",
    "        print(\" \")\n",
    "        print(\"The premium matrix:\")\n",
    "        print(Ct)\n",
    "                     \n",
    "    return Ct[0,0]"
   ]
  },
  {
   "cell_type": "code",
   "execution_count": 68,
   "metadata": {},
   "outputs": [],
   "source": [
    "def amer_binom_pricer(s, k, r, v, q, T, n, payoff, check = True):\n",
    "    nodes = n  + 1\n",
    "    h = T / n\n",
    "    u = np.exp((r - v) * h + q * np.sqrt(h))\n",
    "    d = np.exp((r - v) * h - q * np.sqrt(h))\n",
    "    pu = (np.exp((r - v) * h) - d) / (u - d)\n",
    "    pd = 1.0 - pu\n",
    "    disc = np.exp(-r * h)\n",
    "    \n",
    "    \n",
    "    ## Arrays to store the spot prices and option values\n",
    "    Ct = np.zeros((nodes, n+1))\n",
    "    St = np.zeros((nodes, n+1))\n",
    "    \n",
    "    for i in range(nodes):\n",
    "        St[i, n] = s * (u ** (n - i)) * (d ** i)\n",
    "        Ct[i, n] = payoff(St[i, n], k)\n",
    "        \n",
    "    for t in range((n - 1), -1, -1):\n",
    "        for j in range(t+1):\n",
    "            St[j, t] = St[j, t+1] / u\n",
    "            Ct[j, t] = disc * (pu * Ct[j, t+1] + pd * Ct[j+1, t+1])\n",
    "            # St[j] = St[j] / u\n",
    "            Ct[j, t] = np.maximum(Ct[j, t], payoff(St[j, t], k))\n",
    "    if check:\n",
    "        print(\"The spot matrix:\")\n",
    "        print(St)\n",
    "        print(\" \")\n",
    "        print(\"The premium matrix:\")\n",
    "        print(Ct)\n",
    "                     \n",
    "    return Ct[0,0]"
   ]
  },
  {
   "cell_type": "code",
   "execution_count": 89,
   "metadata": {},
   "outputs": [
    {
     "name": "stdout",
     "output_type": "stream",
     "text": [
      "The spot matrix:\n",
      "[[100.         122.12461202 149.1442086  182.1417861 ]\n",
      " [  0.          86.36925537 105.47811803 128.8147424 ]\n",
      " [  0.           0.          74.59648274  91.10066512]\n",
      " [  0.           0.           0.          64.42842668]]\n",
      " \n",
      "The premium matrix:\n",
      "[[18.28255221 33.14931753 56.64406241 87.1417861 ]\n",
      " [ 0.          6.6897296  15.04032855 33.8147424 ]\n",
      " [ 0.          0.          0.          0.        ]\n",
      " [ 0.          0.          0.          0.        ]]\n",
      "The euro call premium is: 18.283\n",
      "\n",
      "\n",
      "The spot matrix:\n",
      "[[100.         122.12461202 149.1442086  182.1417861 ]\n",
      " [  0.          86.36925537 105.47811803 128.8147424 ]\n",
      " [  0.           0.          74.59648274  91.10066512]\n",
      " [  0.           0.           0.          64.42842668]]\n",
      " \n",
      "The premium matrix:\n",
      "[[18.28255221 33.14931753 56.64406241 87.1417861 ]\n",
      " [ 0.          6.6897296  15.04032855 33.8147424 ]\n",
      " [ 0.          0.          0.          0.        ]\n",
      " [ 0.          0.          0.          0.        ]]\n",
      "The american call premium is: 18.283\n",
      "\n",
      "\n",
      "The spot matrix:\n",
      "[[100.         122.12461202 149.1442086  182.1417861 ]\n",
      " [  0.          86.36925537 105.47811803 128.8147424 ]\n",
      " [  0.           0.          74.59648274  91.10066512]\n",
      " [  0.           0.           0.          64.42842668]]\n",
      " \n",
      "The premium matrix:\n",
      "[[ 5.97860511  1.09077967  0.          0.        ]\n",
      " [ 0.         10.38654838  2.06235672  0.        ]\n",
      " [ 0.          0.         17.90366345  3.89933488]\n",
      " [ 0.          0.          0.         30.57157332]]\n",
      "The euro put premium is: 5.979\n",
      "\n",
      "\n",
      "The spot matrix:\n",
      "[[100.         122.12461202 149.1442086  182.1417861 ]\n",
      " [  0.          86.36925537 105.47811803 128.8147424 ]\n",
      " [  0.           0.          74.59648274  91.10066512]\n",
      " [  0.           0.           0.          64.42842668]]\n",
      " \n",
      "The premium matrix:\n",
      "[[ 6.67790123  1.09077967  0.          0.        ]\n",
      " [ 0.         11.7087201   2.06235672  0.        ]\n",
      " [ 0.          0.         20.40351726  3.89933488]\n",
      " [ 0.          0.          0.         30.57157332]]\n",
      "The american put premium is: 6.678\n"
     ]
    }
   ],
   "source": [
    "s = 100\n",
    "k = 95\n",
    "r = 0.08\n",
    "q = 0.3 # sigma\n",
    "v = 0.0 # dividend\n",
    "T = 1\n",
    "n = 3\n",
    "\n",
    "euro_call_price = euro_binom_pricer(s, k, r, v, q, T, n, call_payoff, check = True)\n",
    "print(\"The euro call premium is:\",round(euro_call_price, 3))\n",
    "print(\"\\n\")\n",
    "amer_call_price = amer_binom_pricer(s, k, r, v, q, T, n, call_payoff, check = True)\n",
    "print(\"The american call premium is:\",round(amer_call_price, 3))\n",
    "print(\"\\n\")\n",
    "euro_put_price = euro_binom_pricer(s, k, r, v, q, T, n, put_payoff, check = True)\n",
    "print(\"The euro put premium is:\",round(euro_put_price, 3))\n",
    "print(\"\\n\")\n",
    "amer_put_price = amer_binom_pricer(s, k, r, v, q, T, n, put_payoff, check = True)\n",
    "print(\"The american put premium is:\",round(amer_put_price, 3))"
   ]
  },
  {
   "cell_type": "code",
   "execution_count": 90,
   "metadata": {},
   "outputs": [
    {
     "name": "stdout",
     "output_type": "stream",
     "text": [
      "The call premiums are the SAME: 18.283\n",
      "Since there is no dividend, there will be no early exercise; the call premiums will be the same\n",
      "\n",
      "\n",
      "The put premiums are NOT the same:\n",
      "    We chose to exercise early\n",
      "American 6.678 != European 5.979\n"
     ]
    }
   ],
   "source": [
    "if euro_call_price == amer_call_price:\n",
    "    print(\"The call premiums are the SAME:\", round(amer_call_price,3))\n",
    "    print(\"Since there is no dividend, there will be no early exercise; the call premiums will be the same\")\n",
    "else:\n",
    "    print(\"They are not the same\")\n",
    "print(\"\\n\")\n",
    "\n",
    "if euro_put_price == amer_put_price:\n",
    "    print(\"The put premiums are the SAME:\", round(amer_put_price,3))\n",
    "else:\n",
    "    print(\"\"\"The put premiums are NOT the same:\n",
    "    We chose to exercise early\"\"\")\n",
    "    print(\"American\",round(amer_put_price,3), \"!=\", \"European\",round(euro_put_price,3))"
   ]
  },
  {
   "cell_type": "code",
   "execution_count": 86,
   "metadata": {},
   "outputs": [
    {
     "name": "stdout",
     "output_type": "stream",
     "text": [
      "12.30394709326959\n",
      "12.977971836817542\n",
      "The put call parity does NOT hold\n"
     ]
    }
   ],
   "source": [
    "## Put Call Parity???\n",
    "a = euro_call_price - euro_put_price\n",
    "print(a)\n",
    "h = T/n\n",
    "F = s * np.exp(r * T)\n",
    "disc = np.exp(-r * h)\n",
    "b = disc*(F-k)\n",
    "print(b)\n",
    "\n",
    "if a == b:\n",
    "    print(\"The put call parity holds\")\n",
    "else:\n",
    "    print(\"The put call parity does NOT hold\")"
   ]
  },
  {
   "cell_type": "markdown",
   "metadata": {},
   "source": [
    "## Problem 6"
   ]
  },
  {
   "cell_type": "code",
   "execution_count": 93,
   "metadata": {},
   "outputs": [
    {
     "name": "stdout",
     "output_type": "stream",
     "text": [
      "u = 1.1454617381452392\n",
      " \n",
      "d = 0.8966038495199921\n",
      "\n",
      "\n",
      "The spot matrix:\n",
      "[[40.         45.81846953 52.48330374 60.11761633]\n",
      " [ 0.         35.86415398 41.08101616 47.05673217]\n",
      " [ 0.          0.         32.15593852 36.83339723]\n",
      " [ 0.          0.          0.         28.83113826]]\n",
      " \n",
      "The premium matrix:\n",
      "[[ 4.37742951  7.73902974 13.01309727 20.11761633]\n",
      " [ 0.          1.51406624  3.26869392  7.05673217]\n",
      " [ 0.          0.          0.          0.        ]\n",
      " [ 0.          0.          0.          0.        ]]\n",
      "The euro call premium is: 4.377\n",
      "\n",
      "\n",
      "The spot matrix:\n",
      "[[40.         45.81846953 52.48330374 60.11761633]\n",
      " [ 0.         35.86415398 41.08101616 47.05673217]\n",
      " [ 0.          0.         32.15593852 36.83339723]\n",
      " [ 0.          0.          0.         28.83113826]]\n",
      " \n",
      "The premium matrix:\n",
      "[[ 4.37742951  7.73902974 13.01309727 20.11761633]\n",
      " [ 0.          1.51406624  3.26869392  7.05673217]\n",
      " [ 0.          0.          0.          0.        ]\n",
      " [ 0.          0.          0.          0.        ]]\n",
      "The american call premium is: 4.377\n",
      "\n",
      "\n",
      "The spot matrix:\n",
      "[[40.         45.81846953 52.48330374 60.11761633]\n",
      " [ 0.         35.86415398 41.08101616 47.05673217]\n",
      " [ 0.          0.         32.15593852 36.83339723]\n",
      " [ 0.          0.          0.         28.83113826]]\n",
      " \n",
      "The premium matrix:\n",
      "[[ 2.80900708  0.86799019  0.          0.        ]\n",
      " [ 0.          4.59734223  1.65788424  0.        ]\n",
      " [ 0.          0.          7.31426795  3.16660277]\n",
      " [ 0.          0.          0.         11.16886174]]\n",
      "The euro put premium is: 2.809\n",
      "\n",
      "\n",
      "The spot matrix:\n",
      "[[40.         45.81846953 52.48330374 60.11761633]\n",
      " [ 0.         35.86415398 41.08101616 47.05673217]\n",
      " [ 0.          0.         32.15593852 36.83339723]\n",
      " [ 0.          0.          0.         28.83113826]]\n",
      " \n",
      "The premium matrix:\n",
      "[[ 2.95422756  0.86799019  0.          0.        ]\n",
      " [ 0.          4.8747172   1.65788424  0.        ]\n",
      " [ 0.          0.          7.84406148  3.16660277]\n",
      " [ 0.          0.          0.         11.16886174]]\n",
      "The american put premium is: 2.954\n"
     ]
    }
   ],
   "source": [
    "s = 40\n",
    "k = 40\n",
    "r = 0.08\n",
    "q = 0.3 # sigma\n",
    "v = 0.0 # dividend\n",
    "T = 0.5\n",
    "n = 3\n",
    "h = T/n\n",
    "u = np.exp((r - v) * h + q * np.sqrt(h))\n",
    "d = np.exp((r - v) * h - q * np.sqrt(h))\n",
    "print(\"u =\", u)\n",
    "print(\" \")\n",
    "print(\"d =\", d)\n",
    "print(\"\\n\")\n",
    "\n",
    "euro_call_price = euro_binom_pricer(s, k, r, v, q, T, n, call_payoff, check = True)\n",
    "print(\"The euro call premium is:\",round(euro_call_price, 3))\n",
    "print(\"\\n\")\n",
    "amer_call_price = amer_binom_pricer(s, k, r, v, q, T, n, call_payoff, check = True)\n",
    "print(\"The american call premium is:\",round(amer_call_price, 3))\n",
    "print(\"\\n\")\n",
    "euro_put_price = euro_binom_pricer(s, k, r, v, q, T, n, put_payoff, check = True)\n",
    "print(\"The euro put premium is:\",round(euro_put_price, 3))\n",
    "print(\"\\n\")\n",
    "amer_put_price = amer_binom_pricer(s, k, r, v, q, T, n, put_payoff, check = True)\n",
    "print(\"The american put premium is:\",round(amer_put_price, 3))"
   ]
  },
  {
   "cell_type": "markdown",
   "metadata": {},
   "source": [
    "## The End"
   ]
  },
  {
   "cell_type": "code",
   "execution_count": null,
   "metadata": {},
   "outputs": [],
   "source": []
  }
 ],
 "metadata": {
  "kernelspec": {
   "display_name": "Python 3",
   "language": "python",
   "name": "python3"
  },
  "language_info": {
   "codemirror_mode": {
    "name": "ipython",
    "version": 3
   },
   "file_extension": ".py",
   "mimetype": "text/x-python",
   "name": "python",
   "nbconvert_exporter": "python",
   "pygments_lexer": "ipython3",
   "version": "3.6.5"
  }
 },
 "nbformat": 4,
 "nbformat_minor": 2
}
