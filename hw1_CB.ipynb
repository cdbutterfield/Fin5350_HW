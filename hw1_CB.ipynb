{
 "cells": [
  {
   "cell_type": "markdown",
   "metadata": {},
   "source": [
    "## Finance 5350 - Fall 2018\n",
    "## Homework 1\n",
    "\n",
    "**DUE: Some Future Date (TBA)**\n",
    "\n",
    "\n",
    "This homework is all about putting to use your knowledge of `Python` from the different building blocks that you have seen so far.\n",
    "\n",
    "We will be talking about these problems and I will give lots of hints in class!\n",
    "\n"
   ]
  },
  {
   "cell_type": "markdown",
   "metadata": {},
   "source": [
    "### Problem 1\n",
    "\n",
    "This problem is known as the *chicken nuggets* problem. It goes like this: you walk into Chick Fil-A with an unlimited amount of money (and appetite!). You can purchase nuggets in containers of 6, 9, and 20.\n",
    "\n",
    "Write a program to tell you the ***highest*** number of nuggets that you ***cannot*** purchase! Re-read that just in case it went past you the first time! The highest number that you cannot get. For example, you can get 15 nuggets by purchasing and box of 6 and a box of 9 nuggets. You can get 18 by purchasing 2 boxes of 9 nuggets. But with no combination of 6, 9, and 20 can you purchase 17 nuggets. What is the highest number that you cannot get?!\n",
    "\n",
    "This simple game will give you experience assembling different bits of `Python` programming to find the solution. It will also employ a very simple numerical method called *brute force* search. \n",
    "\n",
    "Please write your solution in the code cell below:"
   ]
  },
  {
   "cell_type": "code",
   "execution_count": 4,
   "metadata": {
    "collapsed": false
   },
   "outputs": [
    {
     "name": "stdout",
     "output_type": "stream",
     "text": [
      "The largest number of nuggets that I CANNOT buy is: 43\n"
     ]
    }
   ],
   "source": [
    "def is_nugget_number(candidate, box):\n",
    "    s = box['s']\n",
    "    m = box['m']\n",
    "    l = box['l']\n",
    "    \n",
    "    for i in range(candidate//s + 1):\n",
    "        for j in range(candidate//m + 1):\n",
    "            for k in range(candidate//l + 1):\n",
    "                if(candidate == i*s + j*m + k*l):\n",
    "                    return True\n",
    "                \n",
    "    return False\n",
    "\n",
    "## main\n",
    "\n",
    "box = {'s' : 6, 'm' : 9, 'l' : 20}\n",
    "\n",
    "# Is a given number a nugget number\n",
    "candidate = box['s']\n",
    "\n",
    "# Keep track of how many candidates in a row are nugget numbers\n",
    "count = 0\n",
    "\n",
    "# Loop until stopping rule met\n",
    "while count < box['s']:\n",
    "    if is_nugget_number(candidate, box):\n",
    "        count += 1\n",
    "    else:\n",
    "        count = 0\n",
    "        largest = candidate\n",
    "    candidate += 1\n",
    "    \n",
    "print(f\"The largest number of nuggets that I CANNOT buy is: {largest}\")"
   ]
  },
  {
   "cell_type": "markdown",
   "metadata": {},
   "source": [
    "### Problem 2\n",
    "\n",
    "In the book **[Python Programming for the Absolute Beginner, 3rd Edition](http://goo.gl/7PGr9r)** the author teaches `Python` through some simple game programming. One of the first games that he shows how to write is the so-called ***Guess My Number*** game, which is the children's game of guessing some one's secret number (a number between 1 and 100). \n",
    "\n",
    "An implementation of the game in `Python` might look something like this:"
   ]
  },
  {
   "cell_type": "code",
   "execution_count": 4,
   "metadata": {
    "collapsed": false
   },
   "outputs": [
    {
     "name": "stdout",
     "output_type": "stream",
     "text": [
      "\tWelcome to 'Guess My Number'!\n",
      "\tI'm thinking of a number between 1 and 100.\n",
      "\tTry to guess it in as few attempts as possible.\n",
      "\n",
      "Lower ...\n",
      "Lower ...\n",
      "Higher...\n",
      "Higher...\n",
      "Higher...\n",
      "Higher...\n",
      "You guessed it! The number was 43\n",
      "And it only took you 7 tries!\n",
      "\n",
      "\n",
      "\n",
      "Press the enter key to exit.\n"
     ]
    }
   ],
   "source": [
    "import random\n",
    "\n",
    "def print_header():\n",
    "    print(\"\\tWelcome to 'Guess My Number'!\")\n",
    "    print(\"\\tI'm thinking of a number between 1 and 100.\")\n",
    "    print(\"\\tTry to guess it in as few attempts as possible.\\n\")\n",
    "\n",
    "\n",
    "def print_footer(the_number, tries):\n",
    "    print(\"You guessed it! The number was\", the_number)\n",
    "    print(\"And it only took you\", tries, \"tries!\\n\")\n",
    "    print(\"\\n\\nPress the enter key to exit.\")    \n",
    "    \n",
    "def main():\n",
    "    # print the greeting banner\n",
    "    print_header()\n",
    "    \n",
    "    # set the initial values\n",
    "    the_number = random.randint(1, 100)\n",
    "    guess = int(input(\"Take a guess: \"))\n",
    "    tries = 1\n",
    "    \n",
    "    # the game loop\n",
    "    while guess != the_number:\n",
    "        if guess > the_number:\n",
    "            print(\"Lower ...\")\n",
    "        else:\n",
    "            print(\"Higher...\")\n",
    "            \n",
    "        guess = int(input(\"Take a guess: \"))\n",
    "        tries += 1\n",
    "        \n",
    "    print_footer(the_number, tries)\n",
    "    \n",
    "if __name__ == \"__main__\":\n",
    "    main()"
   ]
  },
  {
   "cell_type": "markdown",
   "metadata": {},
   "source": [
    "Make sure you understand each bit of the above program! Study it, play with it, pick it apart, re-write on  your own computer in Spyder. **Remember: Programming is a full contact sport! You have to do it to learn it!!!**"
   ]
  },
  {
   "cell_type": "markdown",
   "metadata": {},
   "source": [
    "Your task in this problem is to now write a version of the *Guess My Number* game where you and the computer switch roles! That is right: you think of a number and the computer must guess it in as few attempts as possible. You will need to encode your guessing logic to the program solution.\n",
    "\n",
    "This might seem like silly game play, but in order to solve the problem you must use an algorithm called **binary search** or the **bisection method** to solve the problem correctly. This is our first attempt at programming a simple algorithm. We will see this algorithm later in the context of the ***Black-Scholes-Merton Option Pricing Model*** to calculate the implied volatility of the model. This is something that options traders do thousands and thousands of times a day!\n",
    "\n",
    "Please use the code cell below to write your solution:"
   ]
  },
  {
   "cell_type": "code",
   "execution_count": 11,
   "metadata": {
    "collapsed": false
   },
   "outputs": [
    {
     "name": "stdout",
     "output_type": "stream",
     "text": [
      "\tWelcome to 'Guess Collin's Number'!\n",
      "\tAre you ready to play??? Can you beat me CLU???\n",
      "\tI'm thinking of a number between 1 and 100.\n",
      "\tTry to guess it in as few attempts as possible.\n",
      "\n",
      "Collin, you need to pick a number between 1-100 to start the game\n",
      " \n",
      "You guessed it! Good job CLU; The number was 1\n",
      "And it only took you 6 tries!\n",
      "\n",
      "\n",
      "\n",
      "Press the enter key to exit.\n"
     ]
    }
   ],
   "source": [
    "def print_header():\n",
    "    print(\"\\tWelcome to 'Guess Collin's Number'!\")\n",
    "    print(\"\\tAre you ready to play??? Can you beat me CLU???\")\n",
    "    print(\"\\tI'm thinking of a number between 1 and 100.\")\n",
    "    print(\"\\tTry to guess it in as few attempts as possible.\\n\")\n",
    "    \n",
    "def print_footer(collin_number, tries):\n",
    "    print(\"You guessed it! Good job CLU; The number was\", collin_number)\n",
    "    print(\"And it only took you\", tries, \"tries!\\n\")\n",
    "    print(\"\\n\\nPress the enter key to exit.\") \n",
    "\n",
    "def binarySearch(alist, guess, cnum, F, L):\n",
    "    \n",
    "    \n",
    "    arr = len(alist)+1\n",
    "    tries = 1\n",
    "\n",
    "    while guess != cnum:\n",
    "        if cnum > 100 or cnum <= 0:\n",
    "            print(\"Collin is a CHEATER, and put a number not in the range!\")\n",
    "            break\n",
    "        elif guess == 99 and tries == 7:\n",
    "            guess = 100\n",
    "        elif guess > cnum:\n",
    "            arr = list(range((F+1), guess))\n",
    "            L = guess\n",
    "            guess = (F + L) // 2\n",
    "        elif guess < cnum:\n",
    "            arr = list(range(guess, L))\n",
    "            F = guess\n",
    "            guess = (F + L) // 2\n",
    "        \n",
    "        tries += 1\n",
    "        \n",
    "    #return tries\n",
    "    print_footer(collin_number, tries)\n",
    "\n",
    "testlist = list(range(1,100))\n",
    "first = 0\n",
    "last = len(testlist)+1\n",
    "CLU_guess = ((first + last)+1)//2\n",
    "\n",
    "print_header()\n",
    "print(\"Collin, you need to pick a number between 1-100 to start the game\")\n",
    "collin_number = int(input(\"Collin chooses: \"))\n",
    "print(\" \")\n",
    "\n",
    "binarySearch(testlist, CLU_guess, collin_number, first, last)\n",
    "    "
   ]
  },
  {
   "cell_type": "markdown",
   "metadata": {},
   "source": [
    "# END of HOMEWORK 1! :)"
   ]
  },
  {
   "cell_type": "code",
   "execution_count": null,
   "metadata": {},
   "outputs": [],
   "source": []
  }
 ],
 "metadata": {
  "anaconda-cloud": {},
  "kernelspec": {
   "display_name": "Python 3",
   "language": "python",
   "name": "python3"
  },
  "language_info": {
   "codemirror_mode": {
    "name": "ipython",
    "version": 3
   },
   "file_extension": ".py",
   "mimetype": "text/x-python",
   "name": "python",
   "nbconvert_exporter": "python",
   "pygments_lexer": "ipython3",
   "version": "3.6.5"
  }
 },
 "nbformat": 4,
 "nbformat_minor": 2
}
